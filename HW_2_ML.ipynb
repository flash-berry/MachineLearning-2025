{
  "nbformat": 4,
  "nbformat_minor": 0,
  "metadata": {
    "colab": {
      "provenance": [],
      "gpuType": "T4",
      "authorship_tag": "ABX9TyOYpJsJP/hAvWo9X5Xdpg4x",
      "include_colab_link": true
    },
    "kernelspec": {
      "name": "python3",
      "display_name": "Python 3"
    },
    "language_info": {
      "name": "python"
    },
    "accelerator": "GPU"
  },
  "cells": [
    {
      "cell_type": "markdown",
      "metadata": {
        "id": "view-in-github",
        "colab_type": "text"
      },
      "source": [
        "<a href=\"https://colab.research.google.com/github/flash-berry/MachineLearning-2025/blob/main/HW_2_ML.ipynb\" target=\"_parent\"><img src=\"https://colab.research.google.com/assets/colab-badge.svg\" alt=\"Open In Colab\"/></a>"
      ]
    },
    {
      "cell_type": "markdown",
      "source": [
        "**Домашнее задание 2**\n",
        "\n",
        "**Выполнил студент:** Пышный Артём\n",
        "\n",
        "**Доступ к датасету:** https://www.kaggle.com/datasets/jockeroika/clouds-photos\n",
        "\n",
        "\n",
        "\n",
        "---\n",
        "\n",
        "\n",
        "\n",
        "**Описание датасета:**\n",
        "\n",
        "Этот набор данных состоит из 961 маркированных изображений облаков, сгруппированных в 7 категорий в зависимости от типов облаков.\n",
        "\n",
        "Тип данных: Фотографические изображения (JPG).\n",
        "\n",
        "Структура: изображения хранятся в подпапках, где каждая папка соответствует типу облака.\n",
        "\n",
        "Классы: высокие кучевые, кучевые, усикообразные, слоисто-кучевые, ясное небо, слоистообразные, кучево-дождевые.\n",
        "\n",
        "Баланс: набор данных несбалансирован, некоторые классы (например, кучево-дождевые) представлены недостаточно по сравнению с другими (высокие кучево-образные)."
      ],
      "metadata": {
        "id": "prs-MasiRkXT"
      }
    },
    {
      "cell_type": "code",
      "source": [
        "!pip install gdown"
      ],
      "metadata": {
        "colab": {
          "base_uri": "https://localhost:8080/"
        },
        "id": "lBRfYQ1pQ2ss",
        "outputId": "3f55be2c-07f7-441e-82ad-608c998a4040"
      },
      "execution_count": 22,
      "outputs": [
        {
          "output_type": "stream",
          "name": "stdout",
          "text": [
            "Requirement already satisfied: gdown in /usr/local/lib/python3.12/dist-packages (5.2.0)\n",
            "Requirement already satisfied: beautifulsoup4 in /usr/local/lib/python3.12/dist-packages (from gdown) (4.13.5)\n",
            "Requirement already satisfied: filelock in /usr/local/lib/python3.12/dist-packages (from gdown) (3.20.0)\n",
            "Requirement already satisfied: requests[socks] in /usr/local/lib/python3.12/dist-packages (from gdown) (2.32.4)\n",
            "Requirement already satisfied: tqdm in /usr/local/lib/python3.12/dist-packages (from gdown) (4.67.1)\n",
            "Requirement already satisfied: soupsieve>1.2 in /usr/local/lib/python3.12/dist-packages (from beautifulsoup4->gdown) (2.8)\n",
            "Requirement already satisfied: typing-extensions>=4.0.0 in /usr/local/lib/python3.12/dist-packages (from beautifulsoup4->gdown) (4.15.0)\n",
            "Requirement already satisfied: charset_normalizer<4,>=2 in /usr/local/lib/python3.12/dist-packages (from requests[socks]->gdown) (3.4.3)\n",
            "Requirement already satisfied: idna<4,>=2.5 in /usr/local/lib/python3.12/dist-packages (from requests[socks]->gdown) (3.10)\n",
            "Requirement already satisfied: urllib3<3,>=1.21.1 in /usr/local/lib/python3.12/dist-packages (from requests[socks]->gdown) (2.5.0)\n",
            "Requirement already satisfied: certifi>=2017.4.17 in /usr/local/lib/python3.12/dist-packages (from requests[socks]->gdown) (2025.10.5)\n",
            "Requirement already satisfied: PySocks!=1.5.7,>=1.5.6 in /usr/local/lib/python3.12/dist-packages (from requests[socks]->gdown) (1.7.1)\n"
          ]
        }
      ]
    },
    {
      "cell_type": "code",
      "execution_count": 23,
      "metadata": {
        "id": "OVzO20UBeTBz",
        "colab": {
          "base_uri": "https://localhost:8080/"
        },
        "outputId": "f7914b08-d451-480e-f8e8-2f8b2fc42a7b"
      },
      "outputs": [
        {
          "output_type": "stream",
          "name": "stdout",
          "text": [
            "Drive already mounted at /content/drive; to attempt to forcibly remount, call drive.mount(\"/content/drive\", force_remount=True).\n"
          ]
        }
      ],
      "source": [
        "import kagglehub\n",
        "import os\n",
        "import zipfile\n",
        "import copy\n",
        "import glob\n",
        "from PIL import Image\n",
        "from tqdm import tqdm\n",
        "import gdown\n",
        "\n",
        "import torch\n",
        "import torch.nn as nn\n",
        "import torch.optim as optim\n",
        "from torch.optim.lr_scheduler import StepLR\n",
        "from torchvision import datasets, models, transforms\n",
        "from torch.utils.data import DataLoader, ConcatDataset, Dataset\n",
        "\n",
        "from sklearn.metrics import confusion_matrix, ConfusionMatrixDisplay\n",
        "import matplotlib.pyplot as plt\n",
        "import numpy as np\n",
        "\n",
        "from google.colab import drive\n",
        "drive.mount('/content/drive')"
      ]
    },
    {
      "cell_type": "code",
      "source": [
        "path = kagglehub.dataset_download(\"jockeroika/clouds-photos\")\n",
        "\n",
        "print(\"Path to dataset files:\", path)"
      ],
      "metadata": {
        "colab": {
          "base_uri": "https://localhost:8080/"
        },
        "id": "bDYjMQ7feddc",
        "outputId": "9ebb4e3a-ec0e-42b3-9904-4953dd5e7b8b"
      },
      "execution_count": 2,
      "outputs": [
        {
          "output_type": "stream",
          "name": "stdout",
          "text": [
            "Using Colab cache for faster access to the 'clouds-photos' dataset.\n",
            "Path to dataset files: /kaggle/input/clouds-photos\n"
          ]
        }
      ]
    },
    {
      "cell_type": "code",
      "source": [
        "for root, dirs, files in os.walk(path):\n",
        "    print(root, len(files), 'файлов')"
      ],
      "metadata": {
        "colab": {
          "base_uri": "https://localhost:8080/"
        },
        "id": "6skfgcAQlFzd",
        "outputId": "62c96466-3b0c-4585-9e90-d4ae38346be0"
      },
      "execution_count": 3,
      "outputs": [
        {
          "output_type": "stream",
          "name": "stdout",
          "text": [
            "/kaggle/input/clouds-photos 0 файлов\n",
            "/kaggle/input/clouds-photos/clouds_train 0 файлов\n",
            "/kaggle/input/clouds-photos/clouds_train/high cumuliform clouds 133 файлов\n",
            "/kaggle/input/clouds-photos/clouds_train/cumulus clouds 91 файлов\n",
            "/kaggle/input/clouds-photos/clouds_train/cirriform clouds 66 файлов\n",
            "/kaggle/input/clouds-photos/clouds_train/stratiform clouds 49 файлов\n",
            "/kaggle/input/clouds-photos/clouds_train/stratocumulus clouds 61 файлов\n",
            "/kaggle/input/clouds-photos/clouds_train/cumulonimbus clouds 14 файлов\n",
            "/kaggle/input/clouds-photos/clouds_train/clear sky 60 файлов\n",
            "/kaggle/input/clouds-photos/clouds_test 0 файлов\n",
            "/kaggle/input/clouds-photos/clouds_test/high cumuliform clouds 103 файлов\n",
            "/kaggle/input/clouds-photos/clouds_test/cumulus clouds 120 файлов\n",
            "/kaggle/input/clouds-photos/clouds_test/cirriform clouds 77 файлов\n",
            "/kaggle/input/clouds-photos/clouds_test/stratiform clouds 40 файлов\n",
            "/kaggle/input/clouds-photos/clouds_test/stratocumulus clouds 71 файлов\n",
            "/kaggle/input/clouds-photos/clouds_test/cumulonimbus clouds 11 файлов\n",
            "/kaggle/input/clouds-photos/clouds_test/clear sky 64 файлов\n"
          ]
        }
      ]
    },
    {
      "cell_type": "code",
      "source": [
        "train_dir = os.path.join(path, \"clouds_train\")\n",
        "test_dir = os.path.join(path, \"clouds_test\")"
      ],
      "metadata": {
        "id": "57SbY1xGnXGA"
      },
      "execution_count": 4,
      "outputs": []
    },
    {
      "cell_type": "code",
      "source": [
        "batch_size = 32\n",
        "learning_rate = 1e-4\n",
        "num_workers = 2\n",
        "num_epochs = 5\n",
        "patience = 3\n",
        "device = torch.device(\"cuda\" if torch.cuda.is_available() else \"cpu\")\n",
        "print(f'Using {device} for inference')"
      ],
      "metadata": {
        "colab": {
          "base_uri": "https://localhost:8080/"
        },
        "id": "WjZPW2BQo5B5",
        "outputId": "2bca8c76-67d7-40b6-f242-1d277aee480b"
      },
      "execution_count": 5,
      "outputs": [
        {
          "output_type": "stream",
          "name": "stdout",
          "text": [
            "Using cuda for inference\n"
          ]
        }
      ]
    },
    {
      "cell_type": "code",
      "source": [
        "train_transforms = transforms.Compose([\n",
        "    transforms.Resize((224, 224)),\n",
        "    transforms.ToTensor(),\n",
        "    transforms.Normalize([0.485, 0.456, 0.406],\n",
        "                         [0.229, 0.224, 0.225])\n",
        "])\n",
        "\n",
        "test_transforms = transforms.Compose([\n",
        "    transforms.Resize((224, 224)),\n",
        "    transforms.ToTensor(),\n",
        "    transforms.Normalize([0.485, 0.456, 0.406],\n",
        "                         [0.229, 0.224, 0.225])\n",
        "])\n",
        "\n",
        "train_dataset = datasets.ImageFolder(train_dir, transform = train_transforms)\n",
        "test_dataset = datasets.ImageFolder(test_dir, transform = test_transforms)\n",
        "\n",
        "train_loader = DataLoader(train_dataset, batch_size = batch_size, shuffle = True, num_workers = num_workers)\n",
        "test_loader = DataLoader(test_dataset, batch_size = batch_size, shuffle = False, num_workers = num_workers)\n",
        "\n",
        "print(f\"Классы: {train_dataset.classes}\")\n",
        "print(f\"Обучающих изображения: {len(train_dataset)}, тестовых изображений: {len(test_dataset)}\")"
      ],
      "metadata": {
        "colab": {
          "base_uri": "https://localhost:8080/"
        },
        "id": "yjKsm4-SqiXg",
        "outputId": "a3401def-810b-4be1-a99a-77a623d6a702"
      },
      "execution_count": 6,
      "outputs": [
        {
          "output_type": "stream",
          "name": "stdout",
          "text": [
            "Классы: ['cirriform clouds', 'clear sky', 'cumulonimbus clouds', 'cumulus clouds', 'high cumuliform clouds', 'stratiform clouds', 'stratocumulus clouds']\n",
            "Обучающих изображения: 474, тестовых изображений: 486\n"
          ]
        }
      ]
    },
    {
      "cell_type": "code",
      "source": [
        "class EarlyStopping:\n",
        "    def __init__(self, patience = 3):\n",
        "        self.patience = patience\n",
        "        self.counter = 0\n",
        "        self.best_loss = np.inf\n",
        "        self.best_model_wts = None\n",
        "        self.early_stop = False\n",
        "\n",
        "    def step(self, val_loss, model):\n",
        "        if val_loss < self.best_loss:\n",
        "            self.best_loss = val_loss\n",
        "            self.best_model_wts = copy.deepcopy(model.state_dict())\n",
        "            self.counter = 0\n",
        "        else:\n",
        "            self.counter += 1\n",
        "            if self.counter >= self.patience:\n",
        "                self.early_stop = True\n",
        "\n",
        "\n",
        "class UnlabeledDataset(Dataset):\n",
        "    def __init__(self, image_dir, transform = None):\n",
        "        self.paths = sorted(glob.glob(os.path.join(image_dir, \"*\")))\n",
        "        self.transform = transform\n",
        "\n",
        "    def __len__(self):\n",
        "        return len(self.paths)\n",
        "\n",
        "    def __getitem__(self, idx):\n",
        "        path = self.paths[idx]\n",
        "        image = Image.open(path).convert(\"RGB\")\n",
        "        if self.transform:\n",
        "            image = self.transform(image)\n",
        "        return image\n",
        "\n",
        "\n",
        "def generate_pseudo_labels(model, unlabeled_loader, threshold = 0.9):\n",
        "    model.eval()\n",
        "    pseudo_images = []\n",
        "    pseudo_labels = []\n",
        "\n",
        "    with torch.no_grad():\n",
        "        for images in unlabeled_loader:\n",
        "            images = images.to(device)\n",
        "            outputs = model(images)\n",
        "            probs = nn.functional.softmax(outputs, dim = 1)\n",
        "            confidences, preds = torch.max(probs, dim=1)\n",
        "\n",
        "            mask = confidences > threshold\n",
        "            pseudo_images.append(images[mask].cpu())\n",
        "            pseudo_labels.append(preds[mask].cpu())\n",
        "\n",
        "    if len(pseudo_images) == 0:\n",
        "        print(\"Нет примеров, которые прошли порог уверенности.\")\n",
        "        return None\n",
        "\n",
        "    pseudo_images = torch.cat(pseudo_images)\n",
        "    pseudo_labels = torch.cat(pseudo_labels)\n",
        "\n",
        "    print(f\"Сгенерировано {len(pseudo_labels)} псевдолейблов.\")\n",
        "\n",
        "    return pseudo_images, pseudo_labels\n",
        "\n",
        "\n",
        "def create_clean_model():\n",
        "    model = models.resnet50(weights = models.ResNet50_Weights.DEFAULT)\n",
        "    num_classes = len(train_dataset.classes)\n",
        "    model.fc = nn.Linear(model.fc.in_features, num_classes)\n",
        "    model = model.to(device)\n",
        "\n",
        "    return model\n",
        "\n",
        "def paint_confusion_matrix(y_true, y_pred):\n",
        "    cm = confusion_matrix(y_true, y_pred)\n",
        "    disp = ConfusionMatrixDisplay(confusion_matrix=cm, display_labels=train_dataset.classes)\n",
        "\n",
        "    plt.figure(figsize=(8, 6))\n",
        "    disp.plot(cmap='Blues', values_format='d')\n",
        "    plt.title(\"Confusion Matrix - Cloud Classification\")\n",
        "    plt.xticks(rotation=45, ha='right')\n",
        "    plt.tight_layout()\n",
        "    plt.show()\n",
        "\n",
        "\n",
        "def train_one_epoch(model, loader, optimizer, epoch, num_epochs):\n",
        "    model.train()\n",
        "    running_loss = 0.0\n",
        "    correct = 0\n",
        "    total = 0\n",
        "\n",
        "    for inputs, labels in tqdm(loader, desc = f\"Epoch {epoch + 1}/{num_epochs}\"):\n",
        "        inputs, labels = inputs.to(device), labels.to(device)\n",
        "\n",
        "        optimizer.zero_grad()\n",
        "        outputs = model(inputs)\n",
        "        loss = criterion(outputs, labels)\n",
        "        loss.backward()\n",
        "        optimizer.step()\n",
        "\n",
        "        running_loss += loss.item() * inputs.size(0)\n",
        "        _, preds = torch.max(outputs, 1)\n",
        "        correct += (preds == labels).sum().item()\n",
        "        total += labels.size(0)\n",
        "\n",
        "    return running_loss / total, correct / total\n",
        "\n",
        "\n",
        "def eval_model(model, loader):\n",
        "    model.eval()\n",
        "    running_loss = 0.0\n",
        "    correct = 0\n",
        "    total = 0\n",
        "    y_true = []\n",
        "    y_pred = []\n",
        "\n",
        "    with torch.no_grad():\n",
        "        for inputs, labels in loader:\n",
        "            inputs, labels = inputs.to(device), labels.to(device)\n",
        "            outputs = model(inputs)\n",
        "            loss = criterion(outputs, labels)\n",
        "            running_loss += loss.item() * inputs.size(0)\n",
        "            _, preds = torch.max(outputs, 1)\n",
        "\n",
        "            y_true.extend(labels.cpu().numpy())\n",
        "            y_pred.extend(preds.cpu().numpy())\n",
        "\n",
        "            correct += (preds == labels).sum().item()\n",
        "            total += labels.size(0)\n",
        "\n",
        "    return running_loss / total, correct / total, y_true, y_pred\n",
        "\n",
        "\n",
        "def train_model(model, train_loader, test_loader, epochs_settings):\n",
        "    best_model_wts = copy.deepcopy(model.state_dict())\n",
        "    best_acc = 0.0\n",
        "\n",
        "    for idx_set, settings in enumerate(epochs_settings):\n",
        "        print(f\"\\n\\t Этап: {idx_set + 1} / {len(epochs_settings)} | Размораживаем: {settings['unfreeze']} | LR = {settings['lr']}\")\n",
        "\n",
        "        train_dataset.transform = settings[\"transform\"]\n",
        "\n",
        "        for param in model.parameters():\n",
        "            param.requires_grad = False\n",
        "\n",
        "        for name, param in model.named_parameters():\n",
        "            if any(u in name for u in settings[\"unfreeze\"]):\n",
        "                param.requires_grad = True\n",
        "\n",
        "        optimizer = optim.Adam(filter(lambda p: p.requires_grad, model.parameters()), lr = settings[\"lr\"])\n",
        "        scheduler = StepLR(optimizer, step_size = 3, gamma = 0.5)\n",
        "        early_stopper = EarlyStopping(patience = patience)\n",
        "\n",
        "        for epoch in range(settings[\"num_epochs\"]):\n",
        "            train_loss, train_acc = train_one_epoch(model, train_loader, optimizer, epoch, settings[\"num_epochs\"])\n",
        "            val_loss, val_acc, _, _ = eval_model(model, test_loader)\n",
        "            scheduler.step()\n",
        "\n",
        "            print(f\"Эпоха {epoch+1}/{settings[\"num_epochs\"]}: \"\n",
        "                  f\"Train Loss={train_loss:.4f}, Acc={train_acc:.4f} | \"\n",
        "                  f\"Val Loss={val_loss:.4f}, Acc={val_acc:.4f}\")\n",
        "\n",
        "            early_stopper.step(val_loss, model)\n",
        "            if early_stopper.early_stop:\n",
        "                print(\"Early stopping на этом этапе!\")\n",
        "                break\n",
        "\n",
        "        if early_stopper.best_model_wts is not None:\n",
        "            model.load_state_dict(early_stopper.best_model_wts)\n",
        "\n",
        "        if val_acc > best_acc:\n",
        "            best_acc = val_acc\n",
        "            best_model_wts = copy.deepcopy(model.state_dict())\n",
        "\n",
        "    model.load_state_dict(best_model_wts)\n",
        "\n",
        "    return model"
      ],
      "metadata": {
        "id": "VE44aJCoiWGh"
      },
      "execution_count": 7,
      "outputs": []
    },
    {
      "cell_type": "code",
      "source": [
        "model = create_clean_model()\n",
        "criterion = nn.CrossEntropyLoss()"
      ],
      "metadata": {
        "id": "LQlAmnxKwJh-"
      },
      "execution_count": 8,
      "outputs": []
    },
    {
      "cell_type": "code",
      "source": [
        "epochs_settings = [\n",
        "    {\"unfreeze\": [\"fc\"], \"lr\": 1e-3, \"transform\": train_transforms, \"num_epochs\": 25}\n",
        "]\n",
        "\n",
        "model = train_model(model, train_loader, test_loader, epochs_settings)\n",
        "\n",
        "test_loss, test_acc, y_true, y_pred = eval_model(model, test_loader)\n",
        "print(f\"Test loss: {test_loss:.4f}, Test accuracy: {100 * test_acc:.4f}\")\n",
        "\n",
        "paint_confusion_matrix(y_true, y_pred)"
      ],
      "metadata": {
        "colab": {
          "base_uri": "https://localhost:8080/",
          "height": 1000
        },
        "id": "fvOR-YWk4b2I",
        "outputId": "40ea735a-530f-4783-80ef-1fe302212484"
      },
      "execution_count": 9,
      "outputs": [
        {
          "output_type": "stream",
          "name": "stdout",
          "text": [
            "\n",
            "\t Этап: 1 / 1 | Размораживаем: ['fc'] | LR = 0.001\n"
          ]
        },
        {
          "output_type": "stream",
          "name": "stderr",
          "text": [
            "Epoch 1/25: 100%|██████████| 15/15 [00:05<00:00,  2.99it/s]\n"
          ]
        },
        {
          "output_type": "stream",
          "name": "stdout",
          "text": [
            "Эпоха 1/25: Train Loss=1.5857, Acc=0.4599 | Val Loss=1.4270, Acc=0.6440\n"
          ]
        },
        {
          "output_type": "stream",
          "name": "stderr",
          "text": [
            "Epoch 2/25: 100%|██████████| 15/15 [00:03<00:00,  4.87it/s]\n"
          ]
        },
        {
          "output_type": "stream",
          "name": "stdout",
          "text": [
            "Эпоха 2/25: Train Loss=0.9753, Acc=0.7932 | Val Loss=0.9466, Acc=0.8436\n"
          ]
        },
        {
          "output_type": "stream",
          "name": "stderr",
          "text": [
            "Epoch 3/25: 100%|██████████| 15/15 [00:02<00:00,  5.43it/s]\n"
          ]
        },
        {
          "output_type": "stream",
          "name": "stdout",
          "text": [
            "Эпоха 3/25: Train Loss=0.6950, Acc=0.8797 | Val Loss=0.6731, Acc=0.8519\n"
          ]
        },
        {
          "output_type": "stream",
          "name": "stderr",
          "text": [
            "Epoch 4/25: 100%|██████████| 15/15 [00:02<00:00,  7.37it/s]\n"
          ]
        },
        {
          "output_type": "stream",
          "name": "stdout",
          "text": [
            "Эпоха 4/25: Train Loss=0.5641, Acc=0.8861 | Val Loss=0.5947, Acc=0.8724\n"
          ]
        },
        {
          "output_type": "stream",
          "name": "stderr",
          "text": [
            "Epoch 5/25: 100%|██████████| 15/15 [00:02<00:00,  7.32it/s]\n"
          ]
        },
        {
          "output_type": "stream",
          "name": "stdout",
          "text": [
            "Эпоха 5/25: Train Loss=0.5384, Acc=0.8755 | Val Loss=0.5458, Acc=0.8704\n"
          ]
        },
        {
          "output_type": "stream",
          "name": "stderr",
          "text": [
            "Epoch 6/25: 100%|██████████| 15/15 [00:02<00:00,  7.26it/s]\n"
          ]
        },
        {
          "output_type": "stream",
          "name": "stdout",
          "text": [
            "Эпоха 6/25: Train Loss=0.4603, Acc=0.9156 | Val Loss=0.5261, Acc=0.8724\n"
          ]
        },
        {
          "output_type": "stream",
          "name": "stderr",
          "text": [
            "Epoch 7/25: 100%|██████████| 15/15 [00:02<00:00,  7.36it/s]\n"
          ]
        },
        {
          "output_type": "stream",
          "name": "stdout",
          "text": [
            "Эпоха 7/25: Train Loss=0.4222, Acc=0.9198 | Val Loss=0.4952, Acc=0.8745\n"
          ]
        },
        {
          "output_type": "stream",
          "name": "stderr",
          "text": [
            "Epoch 8/25: 100%|██████████| 15/15 [00:02<00:00,  7.49it/s]\n"
          ]
        },
        {
          "output_type": "stream",
          "name": "stdout",
          "text": [
            "Эпоха 8/25: Train Loss=0.4357, Acc=0.9072 | Val Loss=0.4920, Acc=0.8724\n"
          ]
        },
        {
          "output_type": "stream",
          "name": "stderr",
          "text": [
            "Epoch 9/25: 100%|██████████| 15/15 [00:01<00:00,  7.66it/s]\n"
          ]
        },
        {
          "output_type": "stream",
          "name": "stdout",
          "text": [
            "Эпоха 9/25: Train Loss=0.4005, Acc=0.9241 | Val Loss=0.4739, Acc=0.8765\n"
          ]
        },
        {
          "output_type": "stream",
          "name": "stderr",
          "text": [
            "Epoch 10/25: 100%|██████████| 15/15 [00:01<00:00,  7.67it/s]\n"
          ]
        },
        {
          "output_type": "stream",
          "name": "stdout",
          "text": [
            "Эпоха 10/25: Train Loss=0.4093, Acc=0.9135 | Val Loss=0.4707, Acc=0.8765\n"
          ]
        },
        {
          "output_type": "stream",
          "name": "stderr",
          "text": [
            "Epoch 11/25: 100%|██████████| 15/15 [00:01<00:00,  7.64it/s]\n"
          ]
        },
        {
          "output_type": "stream",
          "name": "stdout",
          "text": [
            "Эпоха 11/25: Train Loss=0.4348, Acc=0.9114 | Val Loss=0.4771, Acc=0.8786\n"
          ]
        },
        {
          "output_type": "stream",
          "name": "stderr",
          "text": [
            "Epoch 12/25: 100%|██████████| 15/15 [00:02<00:00,  7.40it/s]\n"
          ]
        },
        {
          "output_type": "stream",
          "name": "stdout",
          "text": [
            "Эпоха 12/25: Train Loss=0.3847, Acc=0.9114 | Val Loss=0.4672, Acc=0.8724\n"
          ]
        },
        {
          "output_type": "stream",
          "name": "stderr",
          "text": [
            "Epoch 13/25: 100%|██████████| 15/15 [00:02<00:00,  7.49it/s]\n"
          ]
        },
        {
          "output_type": "stream",
          "name": "stdout",
          "text": [
            "Эпоха 13/25: Train Loss=0.3765, Acc=0.9283 | Val Loss=0.4605, Acc=0.8786\n"
          ]
        },
        {
          "output_type": "stream",
          "name": "stderr",
          "text": [
            "Epoch 14/25: 100%|██████████| 15/15 [00:01<00:00,  7.53it/s]\n"
          ]
        },
        {
          "output_type": "stream",
          "name": "stdout",
          "text": [
            "Эпоха 14/25: Train Loss=0.3702, Acc=0.9388 | Val Loss=0.4657, Acc=0.8765\n"
          ]
        },
        {
          "output_type": "stream",
          "name": "stderr",
          "text": [
            "Epoch 15/25: 100%|██████████| 15/15 [00:01<00:00,  7.60it/s]\n"
          ]
        },
        {
          "output_type": "stream",
          "name": "stdout",
          "text": [
            "Эпоха 15/25: Train Loss=0.3734, Acc=0.9198 | Val Loss=0.4535, Acc=0.8745\n"
          ]
        },
        {
          "output_type": "stream",
          "name": "stderr",
          "text": [
            "Epoch 16/25: 100%|██████████| 15/15 [00:01<00:00,  7.62it/s]\n"
          ]
        },
        {
          "output_type": "stream",
          "name": "stdout",
          "text": [
            "Эпоха 16/25: Train Loss=0.3894, Acc=0.9346 | Val Loss=0.4504, Acc=0.8786\n"
          ]
        },
        {
          "output_type": "stream",
          "name": "stderr",
          "text": [
            "Epoch 17/25: 100%|██████████| 15/15 [00:01<00:00,  7.86it/s]\n"
          ]
        },
        {
          "output_type": "stream",
          "name": "stdout",
          "text": [
            "Эпоха 17/25: Train Loss=0.3527, Acc=0.9451 | Val Loss=0.4518, Acc=0.8745\n"
          ]
        },
        {
          "output_type": "stream",
          "name": "stderr",
          "text": [
            "Epoch 18/25: 100%|██████████| 15/15 [00:01<00:00,  7.62it/s]\n"
          ]
        },
        {
          "output_type": "stream",
          "name": "stdout",
          "text": [
            "Эпоха 18/25: Train Loss=0.3648, Acc=0.9283 | Val Loss=0.4434, Acc=0.8827\n"
          ]
        },
        {
          "output_type": "stream",
          "name": "stderr",
          "text": [
            "Epoch 19/25: 100%|██████████| 15/15 [00:02<00:00,  7.48it/s]\n"
          ]
        },
        {
          "output_type": "stream",
          "name": "stdout",
          "text": [
            "Эпоха 19/25: Train Loss=0.3629, Acc=0.9409 | Val Loss=0.4456, Acc=0.8807\n"
          ]
        },
        {
          "output_type": "stream",
          "name": "stderr",
          "text": [
            "Epoch 20/25: 100%|██████████| 15/15 [00:01<00:00,  7.53it/s]\n"
          ]
        },
        {
          "output_type": "stream",
          "name": "stdout",
          "text": [
            "Эпоха 20/25: Train Loss=0.3541, Acc=0.9304 | Val Loss=0.4465, Acc=0.8786\n"
          ]
        },
        {
          "output_type": "stream",
          "name": "stderr",
          "text": [
            "Epoch 21/25: 100%|██████████| 15/15 [00:02<00:00,  6.49it/s]\n"
          ]
        },
        {
          "output_type": "stream",
          "name": "stdout",
          "text": [
            "Эпоха 21/25: Train Loss=0.3659, Acc=0.9388 | Val Loss=0.4504, Acc=0.8807\n",
            "Early stopping на этом этапе!\n",
            "Test loss: 0.4434, Test accuracy: 88.2716\n"
          ]
        },
        {
          "output_type": "display_data",
          "data": {
            "text/plain": [
              "<Figure size 800x600 with 0 Axes>"
            ]
          },
          "metadata": {}
        },
        {
          "output_type": "display_data",
          "data": {
            "text/plain": [
              "<Figure size 640x480 with 2 Axes>"
            ],
            "image/png": "[encoded data removed]"
          },
          "metadata": {}
        }
      ]
    },
    {
      "cell_type": "markdown",
      "source": [
        "**Вывод:** модель хорошо распознаёт популярные классы и плохо справляется с маленькими классами (Cumulonimbus clouds, Stratocumulus clouds), то есть модель смещена в пользу популярных классов из-за дисбаланса в обучающей выборке."
      ],
      "metadata": {
        "id": "-fizuYEmDOWc"
      }
    },
    {
      "cell_type": "markdown",
      "source": [
        "# Добавим разморозку слоёв"
      ],
      "metadata": {
        "id": "nFF7gUhNYGhz"
      }
    },
    {
      "cell_type": "code",
      "source": [
        "model = create_clean_model()"
      ],
      "metadata": {
        "id": "GA2M0tDZSkSX"
      },
      "execution_count": 10,
      "outputs": []
    },
    {
      "cell_type": "code",
      "source": [
        "epochs_settings = [\n",
        "        {\"unfreeze\": [\"fc\"], \"lr\": 1e-3, \"transform\": train_transforms, \"num_epochs\": 5},\n",
        "        {\"unfreeze\": [\"layer4\", \"fc\"], \"lr\": 5e-4, \"transform\": train_transforms, \"num_epochs\": 5},\n",
        "        {\"unfreeze\": [\"layer3\", \"layer4\", \"fc\"], \"lr\": 1e-4, \"transform\": train_transforms, \"num_epochs\": 5},\n",
        "        {\"unfreeze\": [\"layer2\", \"layer3\", \"layer4\", \"fc\"], \"lr\": 5e-5, \"transform\": train_transforms, \"num_epochs\": 5},\n",
        "        {\"unfreeze\": [\"layer1\", \"layer2\", \"layer3\", \"layer4\", \"fc\"], \"lr\": 1e-5, \"transform\": train_transforms, \"num_epochs\": 5},\n",
        "    ]\n",
        "\n",
        "model = train_model(model, train_loader, test_loader, epochs_settings)\n",
        "\n",
        "test_loss, test_acc, y_true, y_pred = eval_model(model, test_loader)\n",
        "print(f\"Test loss: {test_loss:.4f}, Test accuracy: {100 * test_acc:.4f}\")\n",
        "\n",
        "paint_confusion_matrix(y_true, y_pred)"
      ],
      "metadata": {
        "colab": {
          "base_uri": "https://localhost:8080/",
          "height": 1000
        },
        "id": "5Q3Laikx7rIR",
        "outputId": "f34b2933-5366-4b11-abe1-9b470735852c"
      },
      "execution_count": 11,
      "outputs": [
        {
          "output_type": "stream",
          "name": "stdout",
          "text": [
            "\n",
            "\t Этап: 1 / 5 | Размораживаем: ['fc'] | LR = 0.001\n"
          ]
        },
        {
          "output_type": "stream",
          "name": "stderr",
          "text": [
            "Epoch 1/5: 100%|██████████| 15/15 [00:02<00:00,  7.34it/s]\n"
          ]
        },
        {
          "output_type": "stream",
          "name": "stdout",
          "text": [
            "Эпоха 1/5: Train Loss=1.5847, Acc=0.5359 | Val Loss=1.4653, Acc=0.5947\n"
          ]
        },
        {
          "output_type": "stream",
          "name": "stderr",
          "text": [
            "Epoch 2/5: 100%|██████████| 15/15 [00:01<00:00,  7.67it/s]\n"
          ]
        },
        {
          "output_type": "stream",
          "name": "stdout",
          "text": [
            "Эпоха 2/5: Train Loss=0.9955, Acc=0.7468 | Val Loss=0.9673, Acc=0.8086\n"
          ]
        },
        {
          "output_type": "stream",
          "name": "stderr",
          "text": [
            "Epoch 3/5: 100%|██████████| 15/15 [00:01<00:00,  7.58it/s]\n"
          ]
        },
        {
          "output_type": "stream",
          "name": "stdout",
          "text": [
            "Эпоха 3/5: Train Loss=0.7092, Acc=0.8523 | Val Loss=0.6867, Acc=0.8354\n"
          ]
        },
        {
          "output_type": "stream",
          "name": "stderr",
          "text": [
            "Epoch 4/5: 100%|██████████| 15/15 [00:03<00:00,  4.94it/s]\n"
          ]
        },
        {
          "output_type": "stream",
          "name": "stdout",
          "text": [
            "Эпоха 4/5: Train Loss=0.6027, Acc=0.8692 | Val Loss=0.5988, Acc=0.8621\n"
          ]
        },
        {
          "output_type": "stream",
          "name": "stderr",
          "text": [
            "Epoch 5/5: 100%|██████████| 15/15 [00:02<00:00,  7.49it/s]\n"
          ]
        },
        {
          "output_type": "stream",
          "name": "stdout",
          "text": [
            "Эпоха 5/5: Train Loss=0.5471, Acc=0.8671 | Val Loss=0.5670, Acc=0.8601\n",
            "\n",
            "\t Этап: 2 / 5 | Размораживаем: ['layer4', 'fc'] | LR = 0.0005\n"
          ]
        },
        {
          "output_type": "stream",
          "name": "stderr",
          "text": [
            "Epoch 1/5: 100%|██████████| 15/15 [00:02<00:00,  5.98it/s]\n"
          ]
        },
        {
          "output_type": "stream",
          "name": "stdout",
          "text": [
            "Эпоха 1/5: Train Loss=0.3193, Acc=0.9030 | Val Loss=0.2623, Acc=0.9136\n"
          ]
        },
        {
          "output_type": "stream",
          "name": "stderr",
          "text": [
            "Epoch 2/5: 100%|██████████| 15/15 [00:02<00:00,  5.42it/s]\n"
          ]
        },
        {
          "output_type": "stream",
          "name": "stdout",
          "text": [
            "Эпоха 2/5: Train Loss=0.0504, Acc=0.9895 | Val Loss=0.2219, Acc=0.9362\n"
          ]
        },
        {
          "output_type": "stream",
          "name": "stderr",
          "text": [
            "Epoch 3/5: 100%|██████████| 15/15 [00:02<00:00,  6.05it/s]\n"
          ]
        },
        {
          "output_type": "stream",
          "name": "stdout",
          "text": [
            "Эпоха 3/5: Train Loss=0.0284, Acc=0.9958 | Val Loss=0.2691, Acc=0.9259\n"
          ]
        },
        {
          "output_type": "stream",
          "name": "stderr",
          "text": [
            "Epoch 4/5: 100%|██████████| 15/15 [00:02<00:00,  6.05it/s]\n"
          ]
        },
        {
          "output_type": "stream",
          "name": "stdout",
          "text": [
            "Эпоха 4/5: Train Loss=0.0229, Acc=0.9916 | Val Loss=0.2283, Acc=0.9362\n"
          ]
        },
        {
          "output_type": "stream",
          "name": "stderr",
          "text": [
            "Epoch 5/5: 100%|██████████| 15/15 [00:02<00:00,  5.36it/s]\n"
          ]
        },
        {
          "output_type": "stream",
          "name": "stdout",
          "text": [
            "Эпоха 5/5: Train Loss=0.0093, Acc=0.9979 | Val Loss=0.2160, Acc=0.9383\n",
            "\n",
            "\t Этап: 3 / 5 | Размораживаем: ['layer3', 'layer4', 'fc'] | LR = 0.0001\n"
          ]
        },
        {
          "output_type": "stream",
          "name": "stderr",
          "text": [
            "Epoch 1/5: 100%|██████████| 15/15 [00:03<00:00,  4.40it/s]\n"
          ]
        },
        {
          "output_type": "stream",
          "name": "stdout",
          "text": [
            "Эпоха 1/5: Train Loss=0.0120, Acc=0.9979 | Val Loss=0.2208, Acc=0.9424\n"
          ]
        },
        {
          "output_type": "stream",
          "name": "stderr",
          "text": [
            "Epoch 2/5: 100%|██████████| 15/15 [00:03<00:00,  4.33it/s]\n"
          ]
        },
        {
          "output_type": "stream",
          "name": "stdout",
          "text": [
            "Эпоха 2/5: Train Loss=0.0048, Acc=1.0000 | Val Loss=0.2157, Acc=0.9342\n"
          ]
        },
        {
          "output_type": "stream",
          "name": "stderr",
          "text": [
            "Epoch 3/5: 100%|██████████| 15/15 [00:03<00:00,  4.41it/s]\n"
          ]
        },
        {
          "output_type": "stream",
          "name": "stdout",
          "text": [
            "Эпоха 3/5: Train Loss=0.0024, Acc=1.0000 | Val Loss=0.2158, Acc=0.9403\n"
          ]
        },
        {
          "output_type": "stream",
          "name": "stderr",
          "text": [
            "Epoch 4/5: 100%|██████████| 15/15 [00:03<00:00,  4.41it/s]\n"
          ]
        },
        {
          "output_type": "stream",
          "name": "stdout",
          "text": [
            "Эпоха 4/5: Train Loss=0.0027, Acc=1.0000 | Val Loss=0.2098, Acc=0.9403\n"
          ]
        },
        {
          "output_type": "stream",
          "name": "stderr",
          "text": [
            "Epoch 5/5: 100%|██████████| 15/15 [00:03<00:00,  4.42it/s]\n"
          ]
        },
        {
          "output_type": "stream",
          "name": "stdout",
          "text": [
            "Эпоха 5/5: Train Loss=0.0044, Acc=0.9979 | Val Loss=0.2058, Acc=0.9403\n",
            "\n",
            "\t Этап: 4 / 5 | Размораживаем: ['layer2', 'layer3', 'layer4', 'fc'] | LR = 5e-05\n"
          ]
        },
        {
          "output_type": "stream",
          "name": "stderr",
          "text": [
            "Epoch 1/5: 100%|██████████| 15/15 [00:04<00:00,  3.47it/s]\n"
          ]
        },
        {
          "output_type": "stream",
          "name": "stdout",
          "text": [
            "Эпоха 1/5: Train Loss=0.0075, Acc=0.9979 | Val Loss=0.1844, Acc=0.9424\n"
          ]
        },
        {
          "output_type": "stream",
          "name": "stderr",
          "text": [
            "Epoch 2/5: 100%|██████████| 15/15 [00:04<00:00,  3.54it/s]\n"
          ]
        },
        {
          "output_type": "stream",
          "name": "stdout",
          "text": [
            "Эпоха 2/5: Train Loss=0.0006, Acc=1.0000 | Val Loss=0.1927, Acc=0.9424\n"
          ]
        },
        {
          "output_type": "stream",
          "name": "stderr",
          "text": [
            "Epoch 3/5: 100%|██████████| 15/15 [00:04<00:00,  3.49it/s]\n"
          ]
        },
        {
          "output_type": "stream",
          "name": "stdout",
          "text": [
            "Эпоха 3/5: Train Loss=0.0013, Acc=1.0000 | Val Loss=0.2058, Acc=0.9444\n"
          ]
        },
        {
          "output_type": "stream",
          "name": "stderr",
          "text": [
            "Epoch 4/5: 100%|██████████| 15/15 [00:04<00:00,  3.54it/s]\n"
          ]
        },
        {
          "output_type": "stream",
          "name": "stdout",
          "text": [
            "Эпоха 4/5: Train Loss=0.0010, Acc=1.0000 | Val Loss=0.2130, Acc=0.9383\n",
            "Early stopping на этом этапе!\n",
            "\n",
            "\t Этап: 5 / 5 | Размораживаем: ['layer1', 'layer2', 'layer3', 'layer4', 'fc'] | LR = 1e-05\n"
          ]
        },
        {
          "output_type": "stream",
          "name": "stderr",
          "text": [
            "Epoch 1/5: 100%|██████████| 15/15 [00:05<00:00,  2.96it/s]\n"
          ]
        },
        {
          "output_type": "stream",
          "name": "stdout",
          "text": [
            "Эпоха 1/5: Train Loss=0.0033, Acc=0.9979 | Val Loss=0.1887, Acc=0.9424\n"
          ]
        },
        {
          "output_type": "stream",
          "name": "stderr",
          "text": [
            "Epoch 2/5: 100%|██████████| 15/15 [00:04<00:00,  3.00it/s]\n"
          ]
        },
        {
          "output_type": "stream",
          "name": "stdout",
          "text": [
            "Эпоха 2/5: Train Loss=0.0009, Acc=1.0000 | Val Loss=0.1968, Acc=0.9424\n"
          ]
        },
        {
          "output_type": "stream",
          "name": "stderr",
          "text": [
            "Epoch 3/5: 100%|██████████| 15/15 [00:05<00:00,  2.97it/s]\n"
          ]
        },
        {
          "output_type": "stream",
          "name": "stdout",
          "text": [
            "Эпоха 3/5: Train Loss=0.0005, Acc=1.0000 | Val Loss=0.1996, Acc=0.9424\n"
          ]
        },
        {
          "output_type": "stream",
          "name": "stderr",
          "text": [
            "Epoch 4/5: 100%|██████████| 15/15 [00:04<00:00,  3.01it/s]\n"
          ]
        },
        {
          "output_type": "stream",
          "name": "stdout",
          "text": [
            "Эпоха 4/5: Train Loss=0.0016, Acc=1.0000 | Val Loss=0.2005, Acc=0.9403\n",
            "Early stopping на этом этапе!\n",
            "Test loss: 0.2058, Test accuracy: 94.0329\n"
          ]
        },
        {
          "output_type": "display_data",
          "data": {
            "text/plain": [
              "<Figure size 800x600 with 0 Axes>"
            ]
          },
          "metadata": {}
        },
        {
          "output_type": "display_data",
          "data": {
            "text/plain": [
              "<Figure size 640x480 with 2 Axes>"
            ],
            "image/png": "[encoded data removed]"
          },
          "metadata": {}
        }
      ]
    },
    {
      "cell_type": "markdown",
      "source": [
        "**Вывод:** обучение с постепенной разморозкой слоёв дало буст точности с 88.27% до 94.03%. Модель не потеряла обобщающую способность на популярных классах и вместе с тем увеличила предсказательную способность для малых классов.\n",
        "\n",
        "\n",
        "\n",
        "*   В классе Cumulonumbus clouds True Positive с 2 повысилось до 9\n",
        "*   В классе Stratocumulus clouds True Positive с 51 повысилось до 63\n",
        "*   В классе Stratiform clouds True Positive с 35 повысилось до 39\n",
        "\n"
      ],
      "metadata": {
        "id": "nKSlpGFCS1-l"
      }
    },
    {
      "cell_type": "markdown",
      "source": [
        "# Добавим аугментацию и итеративное обучение на исходных/аугментированных данных"
      ],
      "metadata": {
        "id": "hdeeXZ87VLVz"
      }
    },
    {
      "cell_type": "code",
      "source": [
        "model = create_clean_model()"
      ],
      "metadata": {
        "id": "P22-3OPdU7kJ"
      },
      "execution_count": 12,
      "outputs": []
    },
    {
      "cell_type": "code",
      "source": [
        "aug_transforms = transforms.Compose([\n",
        "    transforms.Resize((224, 224)),\n",
        "    transforms.RandomResizedCrop(224, scale=(0.8, 1.0)),\n",
        "    transforms.RandomHorizontalFlip(),\n",
        "    transforms.RandomRotation(25),\n",
        "    transforms.ColorJitter(brightness=0.3, contrast=0.3, saturation=0.2),\n",
        "    transforms.GaussianBlur(kernel_size=3),\n",
        "    transforms.ToTensor(),\n",
        "    transforms.Normalize([0.485, 0.456, 0.406],\n",
        "                         [0.229, 0.224, 0.225])\n",
        "])"
      ],
      "metadata": {
        "id": "KWyhMy7nYrgC"
      },
      "execution_count": 13,
      "outputs": []
    },
    {
      "cell_type": "code",
      "source": [
        "epochs_settings = [\n",
        "        {\"unfreeze\": [\"fc\"], \"lr\": 1e-3, \"transform\": train_transforms, \"num_epochs\": 5},\n",
        "        {\"unfreeze\": [\"layer4\", \"fc\"], \"lr\": 5e-4, \"transform\": aug_transforms, \"num_epochs\": 5},\n",
        "        {\"unfreeze\": [\"layer3\", \"layer4\", \"fc\"], \"lr\": 1e-4, \"transform\": train_transforms, \"num_epochs\": 5},\n",
        "        {\"unfreeze\": [\"layer2\", \"layer3\", \"layer4\", \"fc\"], \"lr\": 5e-5, \"transform\": aug_transforms, \"num_epochs\": 5},\n",
        "        {\"unfreeze\": [\"layer1\", \"layer2\", \"layer3\", \"layer4\", \"fc\"], \"lr\": 1e-5, \"transform\": train_transforms, \"num_epochs\": 5}\n",
        "    ]\n",
        "\n",
        "model = train_model(model, train_loader, test_loader, epochs_settings)\n",
        "\n",
        "test_loss, test_acc, y_true, y_pred = eval_model(model, test_loader)\n",
        "print(f\"Test loss: {test_loss:.4f}, Test accuracy: {100 * test_acc:.4f}\")\n",
        "\n",
        "paint_confusion_matrix(y_true, y_pred)"
      ],
      "metadata": {
        "colab": {
          "base_uri": "https://localhost:8080/",
          "height": 1000
        },
        "id": "zmONLeQvXz6R",
        "outputId": "8fea9daa-e0c9-437f-89cb-ee639835f8bb"
      },
      "execution_count": 14,
      "outputs": [
        {
          "output_type": "stream",
          "name": "stdout",
          "text": [
            "\n",
            "\t Этап: 1 / 5 | Размораживаем: ['fc'] | LR = 0.001\n"
          ]
        },
        {
          "output_type": "stream",
          "name": "stderr",
          "text": [
            "Epoch 1/5: 100%|██████████| 15/15 [00:01<00:00,  7.51it/s]\n"
          ]
        },
        {
          "output_type": "stream",
          "name": "stdout",
          "text": [
            "Эпоха 1/5: Train Loss=1.5265, Acc=0.5295 | Val Loss=1.4235, Acc=0.6728\n"
          ]
        },
        {
          "output_type": "stream",
          "name": "stderr",
          "text": [
            "Epoch 2/5: 100%|██████████| 15/15 [00:01<00:00,  7.62it/s]\n"
          ]
        },
        {
          "output_type": "stream",
          "name": "stdout",
          "text": [
            "Эпоха 2/5: Train Loss=0.9843, Acc=0.8017 | Val Loss=0.9536, Acc=0.8086\n"
          ]
        },
        {
          "output_type": "stream",
          "name": "stderr",
          "text": [
            "Epoch 3/5: 100%|██████████| 15/15 [00:02<00:00,  6.94it/s]\n"
          ]
        },
        {
          "output_type": "stream",
          "name": "stdout",
          "text": [
            "Эпоха 3/5: Train Loss=0.6873, Acc=0.8734 | Val Loss=0.6694, Acc=0.8498\n"
          ]
        },
        {
          "output_type": "stream",
          "name": "stderr",
          "text": [
            "Epoch 4/5: 100%|██████████| 15/15 [00:01<00:00,  7.65it/s]\n"
          ]
        },
        {
          "output_type": "stream",
          "name": "stdout",
          "text": [
            "Эпоха 4/5: Train Loss=0.5646, Acc=0.8650 | Val Loss=0.5912, Acc=0.8724\n"
          ]
        },
        {
          "output_type": "stream",
          "name": "stderr",
          "text": [
            "Epoch 5/5: 100%|██████████| 15/15 [00:01<00:00,  7.65it/s]\n"
          ]
        },
        {
          "output_type": "stream",
          "name": "stdout",
          "text": [
            "Эпоха 5/5: Train Loss=0.4945, Acc=0.9030 | Val Loss=0.5520, Acc=0.8683\n",
            "\n",
            "\t Этап: 2 / 5 | Размораживаем: ['layer4', 'fc'] | LR = 0.0005\n"
          ]
        },
        {
          "output_type": "stream",
          "name": "stderr",
          "text": [
            "Epoch 1/5: 100%|██████████| 15/15 [00:05<00:00,  2.67it/s]\n"
          ]
        },
        {
          "output_type": "stream",
          "name": "stdout",
          "text": [
            "Эпоха 1/5: Train Loss=0.5703, Acc=0.8186 | Val Loss=0.3658, Acc=0.8786\n"
          ]
        },
        {
          "output_type": "stream",
          "name": "stderr",
          "text": [
            "Epoch 2/5: 100%|██████████| 15/15 [00:04<00:00,  3.31it/s]\n"
          ]
        },
        {
          "output_type": "stream",
          "name": "stdout",
          "text": [
            "Эпоха 2/5: Train Loss=0.3109, Acc=0.8924 | Val Loss=0.2505, Acc=0.8971\n"
          ]
        },
        {
          "output_type": "stream",
          "name": "stderr",
          "text": [
            "Epoch 3/5: 100%|██████████| 15/15 [00:05<00:00,  2.68it/s]\n"
          ]
        },
        {
          "output_type": "stream",
          "name": "stdout",
          "text": [
            "Эпоха 3/5: Train Loss=0.2216, Acc=0.9198 | Val Loss=0.2459, Acc=0.9053\n"
          ]
        },
        {
          "output_type": "stream",
          "name": "stderr",
          "text": [
            "Epoch 4/5: 100%|██████████| 15/15 [00:04<00:00,  3.30it/s]\n"
          ]
        },
        {
          "output_type": "stream",
          "name": "stdout",
          "text": [
            "Эпоха 4/5: Train Loss=0.1258, Acc=0.9578 | Val Loss=0.2298, Acc=0.9115\n"
          ]
        },
        {
          "output_type": "stream",
          "name": "stderr",
          "text": [
            "Epoch 5/5: 100%|██████████| 15/15 [00:04<00:00,  3.11it/s]\n"
          ]
        },
        {
          "output_type": "stream",
          "name": "stdout",
          "text": [
            "Эпоха 5/5: Train Loss=0.1157, Acc=0.9662 | Val Loss=0.2856, Acc=0.9033\n",
            "\n",
            "\t Этап: 3 / 5 | Размораживаем: ['layer3', 'layer4', 'fc'] | LR = 0.0001\n"
          ]
        },
        {
          "output_type": "stream",
          "name": "stderr",
          "text": [
            "Epoch 1/5: 100%|██████████| 15/15 [00:03<00:00,  4.37it/s]\n"
          ]
        },
        {
          "output_type": "stream",
          "name": "stdout",
          "text": [
            "Эпоха 1/5: Train Loss=0.0979, Acc=0.9684 | Val Loss=0.1723, Acc=0.9342\n"
          ]
        },
        {
          "output_type": "stream",
          "name": "stderr",
          "text": [
            "Epoch 2/5: 100%|██████████| 15/15 [00:03<00:00,  4.11it/s]\n"
          ]
        },
        {
          "output_type": "stream",
          "name": "stdout",
          "text": [
            "Эпоха 2/5: Train Loss=0.0434, Acc=0.9852 | Val Loss=0.1881, Acc=0.9362\n"
          ]
        },
        {
          "output_type": "stream",
          "name": "stderr",
          "text": [
            "Epoch 3/5: 100%|██████████| 15/15 [00:03<00:00,  4.35it/s]\n"
          ]
        },
        {
          "output_type": "stream",
          "name": "stdout",
          "text": [
            "Эпоха 3/5: Train Loss=0.0225, Acc=0.9958 | Val Loss=0.1823, Acc=0.9403\n"
          ]
        },
        {
          "output_type": "stream",
          "name": "stderr",
          "text": [
            "Epoch 4/5: 100%|██████████| 15/15 [00:03<00:00,  3.98it/s]\n"
          ]
        },
        {
          "output_type": "stream",
          "name": "stdout",
          "text": [
            "Эпоха 4/5: Train Loss=0.0149, Acc=0.9979 | Val Loss=0.1757, Acc=0.9444\n",
            "Early stopping на этом этапе!\n",
            "\n",
            "\t Этап: 4 / 5 | Размораживаем: ['layer2', 'layer3', 'layer4', 'fc'] | LR = 5e-05\n"
          ]
        },
        {
          "output_type": "stream",
          "name": "stderr",
          "text": [
            "Epoch 1/5: 100%|██████████| 15/15 [00:05<00:00,  2.74it/s]\n"
          ]
        },
        {
          "output_type": "stream",
          "name": "stdout",
          "text": [
            "Эпоха 1/5: Train Loss=0.1190, Acc=0.9705 | Val Loss=0.2168, Acc=0.9259\n"
          ]
        },
        {
          "output_type": "stream",
          "name": "stderr",
          "text": [
            "Epoch 2/5: 100%|██████████| 15/15 [00:05<00:00,  2.61it/s]\n"
          ]
        },
        {
          "output_type": "stream",
          "name": "stdout",
          "text": [
            "Эпоха 2/5: Train Loss=0.0929, Acc=0.9662 | Val Loss=0.1875, Acc=0.9239\n"
          ]
        },
        {
          "output_type": "stream",
          "name": "stderr",
          "text": [
            "Epoch 3/5: 100%|██████████| 15/15 [00:06<00:00,  2.41it/s]\n"
          ]
        },
        {
          "output_type": "stream",
          "name": "stdout",
          "text": [
            "Эпоха 3/5: Train Loss=0.0763, Acc=0.9684 | Val Loss=0.1751, Acc=0.9300\n"
          ]
        },
        {
          "output_type": "stream",
          "name": "stderr",
          "text": [
            "Epoch 4/5: 100%|██████████| 15/15 [00:05<00:00,  2.81it/s]\n"
          ]
        },
        {
          "output_type": "stream",
          "name": "stdout",
          "text": [
            "Эпоха 4/5: Train Loss=0.0788, Acc=0.9705 | Val Loss=0.1755, Acc=0.9321\n"
          ]
        },
        {
          "output_type": "stream",
          "name": "stderr",
          "text": [
            "Epoch 5/5: 100%|██████████| 15/15 [00:06<00:00,  2.19it/s]\n"
          ]
        },
        {
          "output_type": "stream",
          "name": "stdout",
          "text": [
            "Эпоха 5/5: Train Loss=0.0455, Acc=0.9852 | Val Loss=0.1897, Acc=0.9300\n",
            "\n",
            "\t Этап: 5 / 5 | Размораживаем: ['layer1', 'layer2', 'layer3', 'layer4', 'fc'] | LR = 1e-05\n"
          ]
        },
        {
          "output_type": "stream",
          "name": "stderr",
          "text": [
            "Epoch 1/5: 100%|██████████| 15/15 [00:04<00:00,  3.02it/s]\n"
          ]
        },
        {
          "output_type": "stream",
          "name": "stdout",
          "text": [
            "Эпоха 1/5: Train Loss=0.0315, Acc=0.9895 | Val Loss=0.1381, Acc=0.9444\n"
          ]
        },
        {
          "output_type": "stream",
          "name": "stderr",
          "text": [
            "Epoch 2/5: 100%|██████████| 15/15 [00:05<00:00,  3.00it/s]\n"
          ]
        },
        {
          "output_type": "stream",
          "name": "stdout",
          "text": [
            "Эпоха 2/5: Train Loss=0.0190, Acc=0.9937 | Val Loss=0.1519, Acc=0.9465\n"
          ]
        },
        {
          "output_type": "stream",
          "name": "stderr",
          "text": [
            "Epoch 3/5: 100%|██████████| 15/15 [00:05<00:00,  2.97it/s]\n"
          ]
        },
        {
          "output_type": "stream",
          "name": "stdout",
          "text": [
            "Эпоха 3/5: Train Loss=0.0560, Acc=0.9810 | Val Loss=0.1689, Acc=0.9342\n"
          ]
        },
        {
          "output_type": "stream",
          "name": "stderr",
          "text": [
            "Epoch 4/5: 100%|██████████| 15/15 [00:05<00:00,  2.99it/s]\n"
          ]
        },
        {
          "output_type": "stream",
          "name": "stdout",
          "text": [
            "Эпоха 4/5: Train Loss=0.0202, Acc=0.9979 | Val Loss=0.1689, Acc=0.9362\n",
            "Early stopping на этом этапе!\n",
            "Test loss: 0.1723, Test accuracy: 93.4156\n"
          ]
        },
        {
          "output_type": "display_data",
          "data": {
            "text/plain": [
              "<Figure size 800x600 with 0 Axes>"
            ]
          },
          "metadata": {}
        },
        {
          "output_type": "display_data",
          "data": {
            "text/plain": [
              "<Figure size 640x480 with 2 Axes>"
            ],
            "image/png": "[encoded data removed]"
          },
          "metadata": {}
        }
      ]
    },
    {
      "cell_type": "markdown",
      "source": [
        "**Вывод:** итеративное обучение с аугментацией помогло ещё лучше различать самый малый класс (10 из 11 предсказаний правильные), но немного хуже стали предсказываться другие классы, что уменьшило точность с 94.03% до 93.41%"
      ],
      "metadata": {
        "id": "yHfXY4UeGtUK"
      }
    },
    {
      "cell_type": "markdown",
      "source": [
        "# Добавим псевдолейблинг\n"
      ],
      "metadata": {
        "id": "6HhSe3oucdIH"
      }
    },
    {
      "cell_type": "markdown",
      "source": [
        " В качестве неразмеченного датасета для псевдолейблинга использовался собранный вручную датасет облаков из 30 снимков"
      ],
      "metadata": {
        "id": "L4DuOLhmJ8R3"
      }
    },
    {
      "cell_type": "code",
      "source": [
        "url = \"https://drive.google.com/file/d/1eNPAJnsjlAQWpe0aWD14ti3b4jF9zeXr/view?usp=sharing\"\n",
        "\n",
        "file_id = url.split(\"/d/\")[1].split(\"/\")[0]\n",
        "download_url = f\"https://drive.google.com/uc?id={file_id}\"\n",
        "\n",
        "zip_path = \"/content/sky_unlabed.zip\"\n",
        "extract_dir = \"/content/unlabed_dataset\"\n",
        "\n",
        "gdown.download(download_url, zip_path, quiet=False)\n",
        "\n",
        "# === Распаковка ===\n",
        "os.makedirs(extract_dir, exist_ok=True)\n",
        "with zipfile.ZipFile(zip_path, 'r') as zip_ref:\n",
        "    zip_ref.extractall(extract_dir)\n",
        "\n",
        "unlabeled_dataset = UnlabeledDataset(extract_dir, transform = train_transforms)\n",
        "unlabeled_loader = DataLoader(unlabeled_dataset, batch_size = 32, shuffle = False, num_workers = num_workers)\n",
        "\n",
        "pseudo_images, pseudo_labels = generate_pseudo_labels(model, unlabeled_loader, threshold = 0.9)\n",
        "\n",
        "if pseudo_images is not None:\n",
        "    pseudo_labels = pseudo_labels.cpu().tolist()\n",
        "    pseudo_dataset = [(img, int(label)) for img, label in zip(pseudo_images, pseudo_labels)]\n",
        "    combined_dataset = ConcatDataset([train_dataset, pseudo_dataset])\n",
        "    combined_loader = DataLoader(combined_dataset, batch_size = 32, shuffle = True, num_workers = num_workers)\n",
        "else:\n",
        "    combined_loader = train_loader\n",
        "\n",
        "print(f\"Обучающих изображения: {len(combined_dataset)}\")"
      ],
      "metadata": {
        "id": "px6pldW2cfux",
        "colab": {
          "base_uri": "https://localhost:8080/"
        },
        "outputId": "235e40a6-4a8b-46a2-f8ff-0eafef50e994"
      },
      "execution_count": 15,
      "outputs": [
        {
          "output_type": "stream",
          "name": "stdout",
          "text": [
            "Сгенерировано 17 псевдолейблов.\n",
            "Обучающих изображения: 491\n"
          ]
        }
      ]
    },
    {
      "cell_type": "code",
      "source": [
        "model = create_clean_model()"
      ],
      "metadata": {
        "id": "7ZOS43cGBPtB"
      },
      "execution_count": 17,
      "outputs": []
    },
    {
      "cell_type": "code",
      "source": [
        "epochs_settings = [\n",
        "        {\"unfreeze\": [\"fc\"], \"lr\": 1e-3, \"transform\": train_transforms, \"num_epochs\": 5},\n",
        "        {\"unfreeze\": [\"layer4\", \"fc\"], \"lr\": 5e-4, \"transform\": aug_transforms, \"num_epochs\": 5},\n",
        "        {\"unfreeze\": [\"layer3\", \"layer4\", \"fc\"], \"lr\": 1e-4, \"transform\": train_transforms, \"num_epochs\": 5},\n",
        "        {\"unfreeze\": [\"layer2\", \"layer3\", \"layer4\", \"fc\"], \"lr\": 5e-5, \"transform\": aug_transforms, \"num_epochs\": 5},\n",
        "        {\"unfreeze\": [\"layer1\", \"layer2\", \"layer3\", \"layer4\", \"fc\"], \"lr\": 1e-5, \"transform\": train_transforms, \"num_epochs\": 5}\n",
        "    ]\n",
        "\n",
        "model = train_model(model, combined_loader, test_loader, epochs_settings)\n",
        "\n",
        "test_loss, test_acc, y_true, y_pred = eval_model(model, test_loader)\n",
        "print(f\"Test loss: {test_loss:.4f}, Test accuracy: {100 * test_acc:.4f}\")\n",
        "\n",
        "paint_confusion_matrix(y_true, y_pred)"
      ],
      "metadata": {
        "colab": {
          "base_uri": "https://localhost:8080/",
          "height": 1000
        },
        "id": "oGYp_Sc78pc3",
        "outputId": "638baa4a-8703-4e84-a572-92d7f4974120"
      },
      "execution_count": 18,
      "outputs": [
        {
          "output_type": "stream",
          "name": "stdout",
          "text": [
            "\n",
            "\t Этап: 1 / 5 | Размораживаем: ['fc'] | LR = 0.001\n"
          ]
        },
        {
          "output_type": "stream",
          "name": "stderr",
          "text": [
            "Epoch 1/5: 100%|██████████| 16/16 [00:02<00:00,  7.94it/s]\n"
          ]
        },
        {
          "output_type": "stream",
          "name": "stdout",
          "text": [
            "Эпоха 1/5: Train Loss=1.5125, Acc=0.5092 | Val Loss=1.3983, Acc=0.6667\n"
          ]
        },
        {
          "output_type": "stream",
          "name": "stderr",
          "text": [
            "Epoch 2/5: 100%|██████████| 16/16 [00:02<00:00,  7.67it/s]\n"
          ]
        },
        {
          "output_type": "stream",
          "name": "stdout",
          "text": [
            "Эпоха 2/5: Train Loss=0.9616, Acc=0.7984 | Val Loss=0.9126, Acc=0.8457\n"
          ]
        },
        {
          "output_type": "stream",
          "name": "stderr",
          "text": [
            "Epoch 3/5: 100%|██████████| 16/16 [00:02<00:00,  7.91it/s]\n"
          ]
        },
        {
          "output_type": "stream",
          "name": "stdout",
          "text": [
            "Эпоха 3/5: Train Loss=0.6817, Acc=0.8697 | Val Loss=0.6466, Acc=0.8786\n"
          ]
        },
        {
          "output_type": "stream",
          "name": "stderr",
          "text": [
            "Epoch 4/5: 100%|██████████| 16/16 [00:02<00:00,  7.94it/s]\n"
          ]
        },
        {
          "output_type": "stream",
          "name": "stdout",
          "text": [
            "Эпоха 4/5: Train Loss=0.5701, Acc=0.8921 | Val Loss=0.5826, Acc=0.8704\n"
          ]
        },
        {
          "output_type": "stream",
          "name": "stderr",
          "text": [
            "Epoch 5/5: 100%|██████████| 16/16 [00:02<00:00,  7.66it/s]\n"
          ]
        },
        {
          "output_type": "stream",
          "name": "stdout",
          "text": [
            "Эпоха 5/5: Train Loss=0.4925, Acc=0.9084 | Val Loss=0.5372, Acc=0.8683\n",
            "\n",
            "\t Этап: 2 / 5 | Размораживаем: ['layer4', 'fc'] | LR = 0.0005\n"
          ]
        },
        {
          "output_type": "stream",
          "name": "stderr",
          "text": [
            "Epoch 1/5: 100%|██████████| 16/16 [00:04<00:00,  3.45it/s]\n"
          ]
        },
        {
          "output_type": "stream",
          "name": "stdout",
          "text": [
            "Эпоха 1/5: Train Loss=0.5075, Acc=0.8493 | Val Loss=0.3385, Acc=0.8909\n"
          ]
        },
        {
          "output_type": "stream",
          "name": "stderr",
          "text": [
            "Epoch 2/5: 100%|██████████| 16/16 [00:05<00:00,  2.82it/s]\n"
          ]
        },
        {
          "output_type": "stream",
          "name": "stdout",
          "text": [
            "Эпоха 2/5: Train Loss=0.2634, Acc=0.9043 | Val Loss=0.2969, Acc=0.9053\n"
          ]
        },
        {
          "output_type": "stream",
          "name": "stderr",
          "text": [
            "Epoch 3/5: 100%|██████████| 16/16 [00:04<00:00,  3.36it/s]\n"
          ]
        },
        {
          "output_type": "stream",
          "name": "stdout",
          "text": [
            "Эпоха 3/5: Train Loss=0.1943, Acc=0.9287 | Val Loss=0.3208, Acc=0.9033\n"
          ]
        },
        {
          "output_type": "stream",
          "name": "stderr",
          "text": [
            "Epoch 4/5: 100%|██████████| 16/16 [00:05<00:00,  2.73it/s]\n"
          ]
        },
        {
          "output_type": "stream",
          "name": "stdout",
          "text": [
            "Эпоха 4/5: Train Loss=0.1468, Acc=0.9552 | Val Loss=0.2773, Acc=0.9156\n"
          ]
        },
        {
          "output_type": "stream",
          "name": "stderr",
          "text": [
            "Epoch 5/5: 100%|██████████| 16/16 [00:04<00:00,  3.40it/s]\n"
          ]
        },
        {
          "output_type": "stream",
          "name": "stdout",
          "text": [
            "Эпоха 5/5: Train Loss=0.0941, Acc=0.9695 | Val Loss=0.2475, Acc=0.9177\n",
            "\n",
            "\t Этап: 3 / 5 | Размораживаем: ['layer3', 'layer4', 'fc'] | LR = 0.0001\n"
          ]
        },
        {
          "output_type": "stream",
          "name": "stderr",
          "text": [
            "Epoch 1/5: 100%|██████████| 16/16 [00:03<00:00,  4.22it/s]\n"
          ]
        },
        {
          "output_type": "stream",
          "name": "stdout",
          "text": [
            "Эпоха 1/5: Train Loss=0.1318, Acc=0.9511 | Val Loss=0.2053, Acc=0.9300\n"
          ]
        },
        {
          "output_type": "stream",
          "name": "stderr",
          "text": [
            "Epoch 2/5: 100%|██████████| 16/16 [00:03<00:00,  4.55it/s]\n"
          ]
        },
        {
          "output_type": "stream",
          "name": "stdout",
          "text": [
            "Эпоха 2/5: Train Loss=0.0340, Acc=0.9898 | Val Loss=0.1870, Acc=0.9362\n"
          ]
        },
        {
          "output_type": "stream",
          "name": "stderr",
          "text": [
            "Epoch 3/5: 100%|██████████| 16/16 [00:03<00:00,  4.45it/s]\n"
          ]
        },
        {
          "output_type": "stream",
          "name": "stdout",
          "text": [
            "Эпоха 3/5: Train Loss=0.0223, Acc=0.9959 | Val Loss=0.2000, Acc=0.9280\n"
          ]
        },
        {
          "output_type": "stream",
          "name": "stderr",
          "text": [
            "Epoch 4/5: 100%|██████████| 16/16 [00:03<00:00,  4.55it/s]\n"
          ]
        },
        {
          "output_type": "stream",
          "name": "stdout",
          "text": [
            "Эпоха 4/5: Train Loss=0.0108, Acc=0.9980 | Val Loss=0.1913, Acc=0.9321\n"
          ]
        },
        {
          "output_type": "stream",
          "name": "stderr",
          "text": [
            "Epoch 5/5: 100%|██████████| 16/16 [00:03<00:00,  4.53it/s]\n"
          ]
        },
        {
          "output_type": "stream",
          "name": "stdout",
          "text": [
            "Эпоха 5/5: Train Loss=0.0082, Acc=0.9980 | Val Loss=0.1851, Acc=0.9342\n",
            "\n",
            "\t Этап: 4 / 5 | Размораживаем: ['layer2', 'layer3', 'layer4', 'fc'] | LR = 5e-05\n"
          ]
        },
        {
          "output_type": "stream",
          "name": "stderr",
          "text": [
            "Epoch 1/5: 100%|██████████| 16/16 [00:05<00:00,  2.97it/s]\n"
          ]
        },
        {
          "output_type": "stream",
          "name": "stdout",
          "text": [
            "Эпоха 1/5: Train Loss=0.0885, Acc=0.9715 | Val Loss=0.2241, Acc=0.9300\n"
          ]
        },
        {
          "output_type": "stream",
          "name": "stderr",
          "text": [
            "Epoch 2/5: 100%|██████████| 16/16 [00:06<00:00,  2.53it/s]\n"
          ]
        },
        {
          "output_type": "stream",
          "name": "stdout",
          "text": [
            "Эпоха 2/5: Train Loss=0.0915, Acc=0.9654 | Val Loss=0.2244, Acc=0.9280\n"
          ]
        },
        {
          "output_type": "stream",
          "name": "stderr",
          "text": [
            "Epoch 3/5: 100%|██████████| 16/16 [00:05<00:00,  2.84it/s]\n"
          ]
        },
        {
          "output_type": "stream",
          "name": "stdout",
          "text": [
            "Эпоха 3/5: Train Loss=0.0785, Acc=0.9674 | Val Loss=0.2100, Acc=0.9239\n"
          ]
        },
        {
          "output_type": "stream",
          "name": "stderr",
          "text": [
            "Epoch 4/5: 100%|██████████| 16/16 [00:05<00:00,  2.77it/s]\n"
          ]
        },
        {
          "output_type": "stream",
          "name": "stdout",
          "text": [
            "Эпоха 4/5: Train Loss=0.0924, Acc=0.9674 | Val Loss=0.2036, Acc=0.9239\n"
          ]
        },
        {
          "output_type": "stream",
          "name": "stderr",
          "text": [
            "Epoch 5/5: 100%|██████████| 16/16 [00:06<00:00,  2.57it/s]\n"
          ]
        },
        {
          "output_type": "stream",
          "name": "stdout",
          "text": [
            "Эпоха 5/5: Train Loss=0.0623, Acc=0.9857 | Val Loss=0.2175, Acc=0.9177\n",
            "\n",
            "\t Этап: 5 / 5 | Размораживаем: ['layer1', 'layer2', 'layer3', 'layer4', 'fc'] | LR = 1e-05\n"
          ]
        },
        {
          "output_type": "stream",
          "name": "stderr",
          "text": [
            "Epoch 1/5: 100%|██████████| 16/16 [00:05<00:00,  3.09it/s]\n"
          ]
        },
        {
          "output_type": "stream",
          "name": "stdout",
          "text": [
            "Эпоха 1/5: Train Loss=0.0087, Acc=0.9980 | Val Loss=0.1881, Acc=0.9424\n"
          ]
        },
        {
          "output_type": "stream",
          "name": "stderr",
          "text": [
            "Epoch 2/5: 100%|██████████| 16/16 [00:05<00:00,  3.05it/s]\n"
          ]
        },
        {
          "output_type": "stream",
          "name": "stdout",
          "text": [
            "Эпоха 2/5: Train Loss=0.0262, Acc=0.9939 | Val Loss=0.2000, Acc=0.9424\n"
          ]
        },
        {
          "output_type": "stream",
          "name": "stderr",
          "text": [
            "Epoch 3/5: 100%|██████████| 16/16 [00:05<00:00,  3.07it/s]\n"
          ]
        },
        {
          "output_type": "stream",
          "name": "stdout",
          "text": [
            "Эпоха 3/5: Train Loss=0.0036, Acc=1.0000 | Val Loss=0.1949, Acc=0.9383\n"
          ]
        },
        {
          "output_type": "stream",
          "name": "stderr",
          "text": [
            "Epoch 4/5: 100%|██████████| 16/16 [00:05<00:00,  3.00it/s]\n"
          ]
        },
        {
          "output_type": "stream",
          "name": "stdout",
          "text": [
            "Эпоха 4/5: Train Loss=0.0118, Acc=0.9959 | Val Loss=0.1826, Acc=0.9424\n"
          ]
        },
        {
          "output_type": "stream",
          "name": "stderr",
          "text": [
            "Epoch 5/5: 100%|██████████| 16/16 [00:05<00:00,  3.08it/s]\n"
          ]
        },
        {
          "output_type": "stream",
          "name": "stdout",
          "text": [
            "Эпоха 5/5: Train Loss=0.0047, Acc=1.0000 | Val Loss=0.1916, Acc=0.9383\n",
            "Test loss: 0.1826, Test accuracy: 94.2387\n"
          ]
        },
        {
          "output_type": "display_data",
          "data": {
            "text/plain": [
              "<Figure size 800x600 with 0 Axes>"
            ]
          },
          "metadata": {}
        },
        {
          "output_type": "display_data",
          "data": {
            "text/plain": [
              "<Figure size 640x480 with 2 Axes>"
            ],
            "image/png": "[encoded data removed]"
          },
          "metadata": {}
        }
      ]
    },
    {
      "cell_type": "markdown",
      "source": [
        "**Вывод:** псевдолейблинг помог не утратить обобщающую способность на маленьком классе (10 из 11 правильных прогнозов), а также вернул точность на остальных классах, что помогло достичь максимальной точности за все прошлые обучения в 94.24"
      ],
      "metadata": {
        "id": "5CJ9kT3UJwrS"
      }
    }
  ]
}